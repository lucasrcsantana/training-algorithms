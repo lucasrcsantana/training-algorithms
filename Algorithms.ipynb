{
 "cells": [
  {
   "cell_type": "markdown",
   "metadata": {},
   "source": [
    "# Algorithms I: Selection Sort, Insertion Sort and Intro do Analysis"
   ]
  },
  {
   "cell_type": "code",
   "execution_count": 5,
   "metadata": {
    "colab": {},
    "colab_type": "code",
    "id": "bnZPJWoq-IVf"
   },
   "outputs": [],
   "source": [
    "from typing import List"
   ]
  },
  {
   "cell_type": "code",
   "execution_count": 6,
   "metadata": {
    "colab": {},
    "colab_type": "code",
    "id": "g07Am1ln9Avf"
   },
   "outputs": [],
   "source": [
    "precos = [\n",
    "    100000,\n",
    "    10000,\n",
    "    1,\n",
    "    10000000,\n",
    "    100,\n",
    "    10,\n",
    "    32,\n",
    "    412\n",
    " ]"
   ]
  },
  {
   "cell_type": "markdown",
   "metadata": {
    "colab_type": "text",
    "id": "VY5DE4QOa43B"
   },
   "source": [
    "# Selection Sort"
   ]
  },
  {
   "cell_type": "code",
   "execution_count": 25,
   "metadata": {
    "colab": {},
    "colab_type": "code",
    "id": "RaugQWEB9SZy"
   },
   "outputs": [],
   "source": [
    "def encontra_menor_preco(precos: List[int], inicio: int, final: int) -> int:\n",
    "    indice_menor_preco = inicio\n",
    "    for indice_atual in range(inicio, final):\n",
    "        if precos[indice_atual] < precos[indice_menor_preco]:\n",
    "            indice_menor_preco = indice_atual\n",
    "    return indice_menor_preco\n"
   ]
  },
  {
   "cell_type": "code",
   "execution_count": 26,
   "metadata": {
    "colab": {
     "base_uri": "https://localhost:8080/",
     "height": 35
    },
    "colab_type": "code",
    "id": "7hgbQuRs9p9c",
    "outputId": "7b373fd8-0168-44bc-fee0-935abfe69eae"
   },
   "outputs": [
    {
     "data": {
      "text/plain": [
       "2"
      ]
     },
     "execution_count": 26,
     "metadata": {},
     "output_type": "execute_result"
    }
   ],
   "source": [
    "_indice_menor_preco = encontra_menor_preco(precos, 0, len(precos))\n",
    "_indice_menor_preco"
   ]
  },
  {
   "cell_type": "code",
   "execution_count": 27,
   "metadata": {
    "colab": {},
    "colab_type": "code",
    "id": "jDKrUAEv9xN-"
   },
   "outputs": [],
   "source": [
    "def ordenar_lista(precos: List[int]) -> List[int]:\n",
    "    for indice_atual in range(0, len(precos)):\n",
    "        _indice_menor_preco= encontra_menor_preco(precos, indice_atual, len(precos))\n",
    "\n",
    "        preco_atual = precos[indice_atual]\n",
    "        menor_preco = precos[_indice_menor_preco]\n",
    "\n",
    "        precos[indice_atual] = menor_preco\n",
    "        precos[_indice_menor_preco] = preco_atual\n",
    "\n"
   ]
  },
  {
   "cell_type": "code",
   "execution_count": 28,
   "metadata": {
    "colab": {},
    "colab_type": "code",
    "id": "ezycFonyAFZx"
   },
   "outputs": [],
   "source": [
    "ordenar_lista(precos)"
   ]
  },
  {
   "cell_type": "code",
   "execution_count": 29,
   "metadata": {
    "colab": {
     "base_uri": "https://localhost:8080/",
     "height": 35
    },
    "colab_type": "code",
    "id": "Y5MH6JquDdrD",
    "outputId": "be10af72-cb75-4f9f-b012-62440b473246"
   },
   "outputs": [
    {
     "data": {
      "text/plain": [
       "[1, 10, 32, 100, 412, 10000, 100000, 10000000]"
      ]
     },
     "execution_count": 29,
     "metadata": {},
     "output_type": "execute_result"
    }
   ],
   "source": [
    "precos"
   ]
  },
  {
   "cell_type": "markdown",
   "metadata": {
    "colab_type": "text",
    "id": "GXQyhDw-a7aV"
   },
   "source": [
    "# Insertion Sort"
   ]
  },
  {
   "cell_type": "code",
   "execution_count": 30,
   "metadata": {
    "colab": {},
    "colab_type": "code",
    "id": "yMj6DkbLcwgb"
   },
   "outputs": [],
   "source": [
    "precos = [\n",
    "    100000,\n",
    "    10000,\n",
    "    1,\n",
    "    10000000,\n",
    "    100,\n",
    "    10,\n",
    "    32,\n",
    "    412\n",
    "]"
   ]
  },
  {
   "cell_type": "code",
   "execution_count": 33,
   "metadata": {
    "colab": {},
    "colab_type": "code",
    "id": "NMrSKXAmdgzT"
   },
   "outputs": [],
   "source": [
    "def insertion_sort(precos: List[int]) -> None:\n",
    "    for indice_atual in range(0, len(precos)):\n",
    "        indice_analisado = indice_atual\n",
    "\n",
    "        while (indice_analisado > 0 and precos[indice_analisado] < precos[indice_analisado - 1]):\n",
    "\n",
    "            preco_analisado = precos[indice_analisado]\n",
    "            preco_menor = precos[indice_analisado -1]\n",
    "\n",
    "            precos[indice_analisado - 1] = preco_analisado\n",
    "            precos[indice_analisado] = preco_menor\n",
    "\n",
    "            indice_analisado -= 1\n",
    "    print(precos)"
   ]
  },
  {
   "cell_type": "code",
   "execution_count": 34,
   "metadata": {
    "colab": {
     "base_uri": "https://localhost:8080/",
     "height": 339
    },
    "colab_type": "code",
    "id": "KcBNgdu0edNu",
    "outputId": "66d49dd1-31cb-462b-e8fe-94c6a88d6afc"
   },
   "outputs": [
    {
     "name": "stdout",
     "output_type": "stream",
     "text": [
      "[1, 10, 32, 100, 412, 10000, 100000, 10000000]\n"
     ]
    }
   ],
   "source": [
    "insertion_sort(precos)"
   ]
  },
  {
   "cell_type": "markdown",
   "metadata": {
    "colab_type": "text",
    "id": "c7VmelDdBzYU"
   },
   "source": [
    "# Tipos de complexidade algorítimica\n",
    "\n",
    "- Constante\n",
    "- Logarítimica - Log(n)\n",
    "- Linear - n\n",
    "- Quadrática - n^2\n",
    "- n*log(n)\n",
    "- Cúbica - n^3\n",
    "- Exponencial - 2^n"
   ]
  },
  {
   "cell_type": "code",
   "execution_count": null,
   "metadata": {},
   "outputs": [],
   "source": []
  },
  {
   "cell_type": "markdown",
   "metadata": {},
   "source": [
    "# Algorithms II: MergeSort, QuickSort, Binary Search and Algorithms Analysis"
   ]
  },
  {
   "cell_type": "code",
   "execution_count": 45,
   "metadata": {},
   "outputs": [],
   "source": [
    "lista_1 = [4, 5, 8.5, 9]\n",
    "lista_2 = [3, 6.7, 7, 9.3, 10]\n",
    "lists = [lista_1, lista_2]"
   ]
  },
  {
   "cell_type": "code",
   "execution_count": 52,
   "metadata": {},
   "outputs": [
    {
     "data": {
      "text/plain": [
       "9"
      ]
     },
     "execution_count": 52,
     "metadata": {},
     "output_type": "execute_result"
    }
   ],
   "source": [
    "len_total = len_total_list(lists)\n",
    "len_total"
   ]
  },
  {
   "cell_type": "code",
   "execution_count": 236,
   "metadata": {},
   "outputs": [],
   "source": [
    "def merge_sort_two_lists(lists: List[List]) -> List[int]:\n",
    "    len_total = 0\n",
    "    for list in lists:\n",
    "        len_total += len(list)\n",
    "        \n",
    "    full_list = []\n",
    "\n",
    "    index_full_list = 0\n",
    "    index_first_list = 0\n",
    "    index_second_list = 0\n",
    "\n",
    "    for index_full_list in range(0, len_total):\n",
    "\n",
    "        while (index_first_list < len(lists[0])) and (index_second_list < len(lists[1])):\n",
    "            if (lists[0][index_first_list] <= lists[1][index_second_list]):\n",
    "                full_list.append(lists[0][index_first_list])\n",
    "                index_first_list += 1\n",
    "            else:\n",
    "                full_list.append(lists[1][index_second_list])\n",
    "                index_second_list += 1\n",
    "\n",
    "        while (index_first_list < len(lists[0])):\n",
    "            full_list.append(lists[0][index_first_list])\n",
    "            index_first_list += 1\n",
    "\n",
    "        while (index_second_list < len(lists[1])):\n",
    "            full_list.append(lists[1][index_second_list])\n",
    "            index_second_list += 1\n",
    "        \n",
    "    return full_list"
   ]
  },
  {
   "cell_type": "code",
   "execution_count": 237,
   "metadata": {},
   "outputs": [
    {
     "data": {
      "text/plain": [
       "[3, 4, 5, 6.7, 7, 8.5, 9, 9.3, 10]"
      ]
     },
     "execution_count": 237,
     "metadata": {},
     "output_type": "execute_result"
    }
   ],
   "source": [
    "merge_sort_two_lists(lists)"
   ]
  },
  {
   "cell_type": "code",
   "execution_count": null,
   "metadata": {},
   "outputs": [],
   "source": [
    "def merge_sort_one_list(list: List[int]) -> List[int]:\n",
    "    len_total = 0\n",
    "    for list in lists:\n",
    "        len_total += len(list)\n",
    "        \n",
    "    full_list = []\n",
    "\n",
    "    index_full_list = 0\n",
    "    index_first_list = 0\n",
    "    index_second_list = 0\n",
    "\n",
    "    for index_full_list in range(0, len_total):\n",
    "\n",
    "        while (index_first_list < len(lists[0])) and (index_second_list < len(lists[1])):\n",
    "            if (lists[0][index_first_list] <= lists[1][index_second_list]):\n",
    "                full_list.append(lists[0][index_first_list])\n",
    "                index_first_list += 1\n",
    "            else:\n",
    "                full_list.append(lists[1][index_second_list])\n",
    "                index_second_list += 1\n",
    "\n",
    "        while (index_first_list < len(lists[0])):\n",
    "            full_list.append(lists[0][index_first_list])\n",
    "            index_first_list += 1\n",
    "\n",
    "        while (index_second_list < len(lists[1])):\n",
    "            full_list.append(lists[1][index_second_list])\n",
    "            index_second_list += 1\n",
    "        \n",
    "    return full_list"
   ]
  }
 ],
 "metadata": {
  "colab": {
   "name": "Algoritmos.ipynb",
   "provenance": []
  },
  "kernelspec": {
   "display_name": "Python 3",
   "language": "python",
   "name": "python3"
  },
  "language_info": {
   "codemirror_mode": {
    "name": "ipython",
    "version": 3
   },
   "file_extension": ".py",
   "mimetype": "text/x-python",
   "name": "python",
   "nbconvert_exporter": "python",
   "pygments_lexer": "ipython3",
   "version": "3.7.4"
  }
 },
 "nbformat": 4,
 "nbformat_minor": 1
}
